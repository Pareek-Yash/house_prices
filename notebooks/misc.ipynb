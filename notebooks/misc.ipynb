{
 "cells": [
  {
   "cell_type": "code",
   "execution_count": 1,
   "metadata": {},
   "outputs": [],
   "source": [
    "import os\n",
    "\n",
    "os.chdir(path=\"..\")"
   ]
  },
  {
   "cell_type": "code",
   "execution_count": 6,
   "metadata": {},
   "outputs": [
    {
     "name": "stdout",
     "output_type": "stream",
     "text": [
      "└── house-prices/\n",
      "│   └── .dockerignore\n",
      "│   └── .dvcignore\n",
      "│   └── .editorconfig\n",
      "│   └── .gitignore\n",
      "│   └── .pre-commit-config.yaml\n",
      "│   └── config/\n",
      "│       └── config.yml\n",
      "│   └── data/\n",
      "│   │   └── .gitkeep\n",
      "│       └── housing/\n",
      "│       │   └── AmesHousing.csv\n",
      "│       │   └── target.csv\n",
      "│       │   └── test.csv\n",
      "│           └── train.csv\n",
      "│   └── deploy/\n",
      "│       └── main.py\n",
      "│   └── docker-compose.yml\n",
      "│   └── Dockerfile\n",
      "│   └── kaggle.json\n",
      "│   └── notebooks/\n",
      "│   │   └── 00_exploratory_data_analysis.ipynb\n",
      "│       └── misc.ipynb\n",
      "│   └── poetry.lock\n",
      "│   └── poetry.toml\n",
      "│   └── pylintrc\n",
      "│   └── pyproject.toml\n",
      "│   └── README.md\n",
      "│   └── src/\n",
      "│   │   └── main.py\n",
      "│   │   └── util.py\n",
      "│   │   └── version.py\n",
      "│   │   └── __init__.py\n",
      "    └── tests/\n",
      "    │   └── test_example.py\n",
      "    │   └── test_util.py\n",
      "    │   └── __init__.py\n"
     ]
    }
   ],
   "source": [
    "def print_directory_structure(root_dir, prefix=\"\"):\n",
    "    if os.path.basename(root_dir).startswith((\".\", \"__\")):\n",
    "        return\n",
    "    print(prefix + \"└── \" + os.path.basename(root_dir) + \"/\")\n",
    "    items = os.listdir(root_dir)\n",
    "    padding = prefix + \"    \"\n",
    "    for index, item in enumerate(items):\n",
    "        item_path = os.path.join(root_dir, item)\n",
    "        if index == len(items) - 1:  # Last item in the directory\n",
    "            if os.path.isdir(item_path):\n",
    "                print_directory_structure(item_path, padding)\n",
    "            else:\n",
    "                print(padding + \"└── \" + item)\n",
    "        else:  # Other items in the directory\n",
    "            if os.path.isdir(item_path):\n",
    "                print_directory_structure(item_path, prefix + \"│   \")\n",
    "            else:\n",
    "                print(prefix + \"│   \" + \"└── \" + item)\n",
    "\n",
    "\n",
    "# Specify the root directory (current directory in this case)\n",
    "root_directory = os.getcwd()\n",
    "\n",
    "# Call the function to print the directory structure\n",
    "print_directory_structure(root_directory)"
   ]
  }
 ],
 "metadata": {
  "kernelspec": {
   "display_name": ".venv",
   "language": "python",
   "name": "python3"
  },
  "language_info": {
   "codemirror_mode": {
    "name": "ipython",
    "version": 3
   },
   "file_extension": ".py",
   "mimetype": "text/x-python",
   "name": "python",
   "nbconvert_exporter": "python",
   "pygments_lexer": "ipython3",
   "version": "3.11.4"
  }
 },
 "nbformat": 4,
 "nbformat_minor": 2
}
