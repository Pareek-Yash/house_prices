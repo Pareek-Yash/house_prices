{
 "cells": [
  {
   "cell_type": "code",
   "execution_count": 1,
   "metadata": {},
   "outputs": [
    {
     "name": "stdout",
     "output_type": "stream",
     "text": [
      "d:\\python\\house-prices\\notebooks\n"
     ]
    }
   ],
   "source": [
    "import os\n",
    "print(os.getcwd())\n",
    "\n",
    "os.chdir(path=\"..\")\n",
    "import polars as pl\n",
    "import opendatasets as od"
   ]
  },
  {
   "cell_type": "code",
   "execution_count": 2,
   "metadata": {},
   "outputs": [],
   "source": [
    "data_dir = \"data/\""
   ]
  },
  {
   "cell_type": "code",
   "execution_count": 3,
   "metadata": {},
   "outputs": [
    {
     "name": "stdout",
     "output_type": "stream",
     "text": [
      "Skipping, found downloaded files in \"data/housing\" (use force=True to force download)\n"
     ]
    }
   ],
   "source": [
    "dataset_url = \"https://www.kaggle.com/datasets/marcopale/housing\"\n",
    "dataset = od.download_kaggle_dataset(dataset_url, data_dir=data_dir)"
   ]
  },
  {
   "cell_type": "code",
   "execution_count": 4,
   "metadata": {},
   "outputs": [],
   "source": [
    "train_dataframe = pl.read_csv(os.path.join(data_dir, \"housing/train.csv\"))"
   ]
  },
  {
   "cell_type": "code",
   "execution_count": 11,
   "metadata": {},
   "outputs": [
    {
     "data": {
      "text/html": [
       "<div><style>\n",
       ".dataframe > thead > tr,\n",
       ".dataframe > tbody > tr {\n",
       "  text-align: right;\n",
       "  white-space: pre-wrap;\n",
       "}\n",
       "</style>\n",
       "<small>shape: (1, 82)</small><table border=\"1\" class=\"dataframe\"><thead><tr><th>Order</th><th>PID</th><th>MS SubClass</th><th>MS Zoning</th><th>Lot Frontage</th><th>Lot Area</th><th>Street</th><th>Alley</th><th>Lot Shape</th><th>Land Contour</th><th>Utilities</th><th>Lot Config</th><th>Land Slope</th><th>Neighborhood</th><th>Condition 1</th><th>Condition 2</th><th>Bldg Type</th><th>House Style</th><th>Overall Qual</th><th>Overall Cond</th><th>Year Built</th><th>Year Remod/Add</th><th>Roof Style</th><th>Roof Matl</th><th>Exterior 1st</th><th>Exterior 2nd</th><th>Mas Vnr Type</th><th>Mas Vnr Area</th><th>Exter Qual</th><th>Exter Cond</th><th>Foundation</th><th>Bsmt Qual</th><th>Bsmt Cond</th><th>Bsmt Exposure</th><th>BsmtFin Type 1</th><th>BsmtFin SF 1</th><th>BsmtFin Type 2</th><th>&hellip;</th><th>2nd Flr SF</th><th>Low Qual Fin SF</th><th>Gr Liv Area</th><th>Bsmt Full Bath</th><th>Bsmt Half Bath</th><th>Full Bath</th><th>Half Bath</th><th>Bedroom AbvGr</th><th>Kitchen AbvGr</th><th>Kitchen Qual</th><th>TotRms AbvGrd</th><th>Functional</th><th>Fireplaces</th><th>Fireplace Qu</th><th>Garage Type</th><th>Garage Yr Blt</th><th>Garage Finish</th><th>Garage Cars</th><th>Garage Area</th><th>Garage Qual</th><th>Garage Cond</th><th>Paved Drive</th><th>Wood Deck SF</th><th>Open Porch SF</th><th>Enclosed Porch</th><th>3Ssn Porch</th><th>Screen Porch</th><th>Pool Area</th><th>Pool QC</th><th>Fence</th><th>Misc Feature</th><th>Misc Val</th><th>Mo Sold</th><th>Yr Sold</th><th>Sale Type</th><th>Sale Condition</th><th>SalePrice</th></tr><tr><td>i64</td><td>i64</td><td>i64</td><td>str</td><td>f64</td><td>i64</td><td>str</td><td>str</td><td>str</td><td>str</td><td>str</td><td>str</td><td>str</td><td>str</td><td>str</td><td>str</td><td>str</td><td>str</td><td>i64</td><td>i64</td><td>i64</td><td>i64</td><td>str</td><td>str</td><td>str</td><td>str</td><td>str</td><td>f64</td><td>str</td><td>str</td><td>str</td><td>str</td><td>str</td><td>str</td><td>str</td><td>f64</td><td>str</td><td>&hellip;</td><td>i64</td><td>i64</td><td>i64</td><td>f64</td><td>f64</td><td>i64</td><td>i64</td><td>i64</td><td>i64</td><td>str</td><td>i64</td><td>str</td><td>i64</td><td>str</td><td>str</td><td>f64</td><td>str</td><td>f64</td><td>f64</td><td>str</td><td>str</td><td>str</td><td>i64</td><td>i64</td><td>i64</td><td>i64</td><td>i64</td><td>i64</td><td>str</td><td>str</td><td>str</td><td>i64</td><td>i64</td><td>i64</td><td>str</td><td>str</td><td>i64</td></tr></thead><tbody><tr><td>534</td><td>531363010</td><td>20</td><td>&quot;RL&quot;</td><td>80.0</td><td>9605</td><td>&quot;Pave&quot;</td><td>null</td><td>&quot;Reg&quot;</td><td>&quot;Lvl&quot;</td><td>&quot;AllPub&quot;</td><td>&quot;Corner&quot;</td><td>&quot;Gtl&quot;</td><td>&quot;SawyerW&quot;</td><td>&quot;Norm&quot;</td><td>&quot;Norm&quot;</td><td>&quot;1Fam&quot;</td><td>&quot;1Story&quot;</td><td>7</td><td>6</td><td>2007</td><td>2007</td><td>&quot;Gable&quot;</td><td>&quot;CompShg&quot;</td><td>&quot;VinylSd&quot;</td><td>&quot;VinylSd&quot;</td><td>&quot;None&quot;</td><td>0.0</td><td>&quot;Gd&quot;</td><td>&quot;TA&quot;</td><td>&quot;PConc&quot;</td><td>&quot;Gd&quot;</td><td>&quot;TA&quot;</td><td>&quot;No&quot;</td><td>&quot;Unf&quot;</td><td>0.0</td><td>&quot;Unf&quot;</td><td>&hellip;</td><td>0</td><td>0</td><td>1218</td><td>0.0</td><td>0.0</td><td>1</td><td>1</td><td>3</td><td>1</td><td>&quot;Gd&quot;</td><td>6</td><td>&quot;Typ&quot;</td><td>0</td><td>null</td><td>&quot;Detchd&quot;</td><td>2007.0</td><td>&quot;RFn&quot;</td><td>2.0</td><td>576.0</td><td>&quot;TA&quot;</td><td>&quot;TA&quot;</td><td>&quot;Y&quot;</td><td>0</td><td>178</td><td>0</td><td>0</td><td>0</td><td>0</td><td>null</td><td>null</td><td>null</td><td>0</td><td>4</td><td>2009</td><td>&quot;WD &quot;</td><td>&quot;Normal&quot;</td><td>159000</td></tr></tbody></table></div>"
      ],
      "text/plain": [
       "shape: (1, 82)\n",
       "┌───────┬───────────┬─────────────┬───────────┬───┬─────────┬───────────┬───────────┬───────────┐\n",
       "│ Order ┆ PID       ┆ MS SubClass ┆ MS Zoning ┆ … ┆ Yr Sold ┆ Sale Type ┆ Sale      ┆ SalePrice │\n",
       "│ ---   ┆ ---       ┆ ---         ┆ ---       ┆   ┆ ---     ┆ ---       ┆ Condition ┆ ---       │\n",
       "│ i64   ┆ i64       ┆ i64         ┆ str       ┆   ┆ i64     ┆ str       ┆ ---       ┆ i64       │\n",
       "│       ┆           ┆             ┆           ┆   ┆         ┆           ┆ str       ┆           │\n",
       "╞═══════╪═══════════╪═════════════╪═══════════╪═══╪═════════╪═══════════╪═══════════╪═══════════╡\n",
       "│ 534   ┆ 531363010 ┆ 20          ┆ RL        ┆ … ┆ 2009    ┆ WD        ┆ Normal    ┆ 159000    │\n",
       "└───────┴───────────┴─────────────┴───────────┴───┴─────────┴───────────┴───────────┴───────────┘"
      ]
     },
     "execution_count": 11,
     "metadata": {},
     "output_type": "execute_result"
    }
   ],
   "source": [
    "train_dataframe[0]"
   ]
  },
  {
   "cell_type": "code",
   "execution_count": null,
   "metadata": {},
   "outputs": [],
   "source": []
  }
 ],
 "metadata": {
  "kernelspec": {
   "display_name": "house_prices-KjudR7Kb",
   "language": "python",
   "name": "python3"
  },
  "language_info": {
   "codemirror_mode": {
    "name": "ipython",
    "version": 3
   },
   "file_extension": ".py",
   "mimetype": "text/x-python",
   "name": "python",
   "nbconvert_exporter": "python",
   "pygments_lexer": "ipython3",
   "version": "3.11.4"
  }
 },
 "nbformat": 4,
 "nbformat_minor": 2
}
